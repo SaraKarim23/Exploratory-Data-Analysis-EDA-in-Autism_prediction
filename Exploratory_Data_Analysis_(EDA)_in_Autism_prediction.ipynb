{
  "nbformat": 4,
  "nbformat_minor": 0,
  "metadata": {
    "colab": {
      "name": "Exploratory Data Analysis (EDA) in Autism_prediction.ipynb",
      "provenance": [],
      "mount_file_id": "1frurQ5CEl4EU13cDuIA2yvrKAo_ZBvGC",
      "authorship_tag": "ABX9TyNFlHG7KlTtMhNZ4N0W+LUk",
      "include_colab_link": true
    },
    "kernelspec": {
      "name": "python3",
      "display_name": "Python 3"
    },
    "language_info": {
      "name": "python"
    }
  },
  "cells": [
    {
      "cell_type": "markdown",
      "metadata": {
        "id": "view-in-github",
        "colab_type": "text"
      },
      "source": [
        "<a href=\"https://colab.research.google.com/github/SaraKarim23/Exploratory-Data-Analysis-EDA-in-Autism_prediction/blob/main/Exploratory_Data_Analysis_(EDA)_in_Autism_prediction.ipynb\" target=\"_parent\"><img src=\"https://colab.research.google.com/assets/colab-badge.svg\" alt=\"Open In Colab\"/></a>"
      ]
    },
    {
      "cell_type": "code",
      "source": [
        "# Import libraries\n",
        "import pandas as pd\n",
        "import numpy as np\n",
        "import matplotlib.pyplot as plt\n",
        "import seaborn as sns\n",
        "from scipy.stats import chi2_contingency\n",
        "\n",
        "import warnings\n",
        "warnings.filterwarnings(\"ignore\")\n",
        "\n"
      ],
      "metadata": {
        "id": "HtR8fbZCaIcb"
      },
      "execution_count": 2,
      "outputs": []
    },
    {
      "cell_type": "code",
      "source": [
        "train_df = pd.read_csv('/content/train.csv')\n",
        "test_df = pd.read_csv('/content/test.csv')\n",
        "sample_df = pd.read_csv('/content/sample_submission.csv')\n",
        "\n",
        "train_df.shape, test_df.shape, sample_df.shape"
      ],
      "metadata": {
        "id": "c00CCNVeaKOA",
        "colab": {
          "base_uri": "https://localhost:8080/"
        },
        "outputId": "09a670ba-b50b-4d9a-cc81-fb4e7b8615ae"
      },
      "execution_count": 3,
      "outputs": [
        {
          "output_type": "execute_result",
          "data": {
            "text/plain": [
              "((800, 22), (200, 21), (200, 2))"
            ]
          },
          "metadata": {},
          "execution_count": 3
        }
      ]
    },
    {
      "cell_type": "code",
      "source": [
        "train_df.columns"
      ],
      "metadata": {
        "colab": {
          "base_uri": "https://localhost:8080/"
        },
        "id": "R9pq5OBmdNKv",
        "outputId": "b7a295c7-fd2e-4dae-ed4f-9e3b8e10b9a3"
      },
      "execution_count": 4,
      "outputs": [
        {
          "output_type": "execute_result",
          "data": {
            "text/plain": [
              "Index(['ID', 'A1_Score', 'A2_Score', 'A3_Score', 'A4_Score', 'A5_Score',\n",
              "       'A6_Score', 'A7_Score', 'A8_Score', 'A9_Score', 'A10_Score', 'age',\n",
              "       'gender', 'ethnicity', 'jaundice', 'austim', 'contry_of_res',\n",
              "       'used_app_before', 'result', 'age_desc', 'relation', 'Class/ASD'],\n",
              "      dtype='object')"
            ]
          },
          "metadata": {},
          "execution_count": 4
        }
      ]
    },
    {
      "cell_type": "code",
      "source": [
        "train_df.head()"
      ],
      "metadata": {
        "colab": {
          "base_uri": "https://localhost:8080/",
          "height": 386
        },
        "id": "EQMSwE1FdPgy",
        "outputId": "10876601-25f7-4602-e6e4-e5d5246a5116"
      },
      "execution_count": 5,
      "outputs": [
        {
          "output_type": "execute_result",
          "data": {
            "text/plain": [
              "   ID  A1_Score  A2_Score  A3_Score  A4_Score  A5_Score  A6_Score  A7_Score  \\\n",
              "0   1         1         0         1         0         1         0         1   \n",
              "1   2         0         0         0         0         0         0         0   \n",
              "2   3         1         1         1         1         1         1         1   \n",
              "3   4         0         0         0         0         0         0         0   \n",
              "4   5         0         0         0         0         0         0         0   \n",
              "\n",
              "   A8_Score  A9_Score  ...  gender       ethnicity jaundice austim  \\\n",
              "0         0         1  ...       f               ?       no     no   \n",
              "1         0         0  ...       m               ?       no     no   \n",
              "2         1         1  ...       m  White-European       no    yes   \n",
              "3         0         0  ...       f               ?       no     no   \n",
              "4         0         0  ...       m               ?       no     no   \n",
              "\n",
              "   contry_of_res used_app_before     result     age_desc  relation Class/ASD  \n",
              "0        Austria              no   6.351166  18 and more      Self         0  \n",
              "1          India              no   2.255185  18 and more      Self         0  \n",
              "2  United States              no  14.851484  18 and more      Self         1  \n",
              "3  United States              no   2.276617  18 and more      Self         0  \n",
              "4   South Africa              no  -4.777286  18 and more      Self         0  \n",
              "\n",
              "[5 rows x 22 columns]"
            ],
            "text/html": [
              "\n",
              "  <div id=\"df-f3472224-294c-4804-b65b-28692afb5f3f\">\n",
              "    <div class=\"colab-df-container\">\n",
              "      <div>\n",
              "<style scoped>\n",
              "    .dataframe tbody tr th:only-of-type {\n",
              "        vertical-align: middle;\n",
              "    }\n",
              "\n",
              "    .dataframe tbody tr th {\n",
              "        vertical-align: top;\n",
              "    }\n",
              "\n",
              "    .dataframe thead th {\n",
              "        text-align: right;\n",
              "    }\n",
              "</style>\n",
              "<table border=\"1\" class=\"dataframe\">\n",
              "  <thead>\n",
              "    <tr style=\"text-align: right;\">\n",
              "      <th></th>\n",
              "      <th>ID</th>\n",
              "      <th>A1_Score</th>\n",
              "      <th>A2_Score</th>\n",
              "      <th>A3_Score</th>\n",
              "      <th>A4_Score</th>\n",
              "      <th>A5_Score</th>\n",
              "      <th>A6_Score</th>\n",
              "      <th>A7_Score</th>\n",
              "      <th>A8_Score</th>\n",
              "      <th>A9_Score</th>\n",
              "      <th>...</th>\n",
              "      <th>gender</th>\n",
              "      <th>ethnicity</th>\n",
              "      <th>jaundice</th>\n",
              "      <th>austim</th>\n",
              "      <th>contry_of_res</th>\n",
              "      <th>used_app_before</th>\n",
              "      <th>result</th>\n",
              "      <th>age_desc</th>\n",
              "      <th>relation</th>\n",
              "      <th>Class/ASD</th>\n",
              "    </tr>\n",
              "  </thead>\n",
              "  <tbody>\n",
              "    <tr>\n",
              "      <th>0</th>\n",
              "      <td>1</td>\n",
              "      <td>1</td>\n",
              "      <td>0</td>\n",
              "      <td>1</td>\n",
              "      <td>0</td>\n",
              "      <td>1</td>\n",
              "      <td>0</td>\n",
              "      <td>1</td>\n",
              "      <td>0</td>\n",
              "      <td>1</td>\n",
              "      <td>...</td>\n",
              "      <td>f</td>\n",
              "      <td>?</td>\n",
              "      <td>no</td>\n",
              "      <td>no</td>\n",
              "      <td>Austria</td>\n",
              "      <td>no</td>\n",
              "      <td>6.351166</td>\n",
              "      <td>18 and more</td>\n",
              "      <td>Self</td>\n",
              "      <td>0</td>\n",
              "    </tr>\n",
              "    <tr>\n",
              "      <th>1</th>\n",
              "      <td>2</td>\n",
              "      <td>0</td>\n",
              "      <td>0</td>\n",
              "      <td>0</td>\n",
              "      <td>0</td>\n",
              "      <td>0</td>\n",
              "      <td>0</td>\n",
              "      <td>0</td>\n",
              "      <td>0</td>\n",
              "      <td>0</td>\n",
              "      <td>...</td>\n",
              "      <td>m</td>\n",
              "      <td>?</td>\n",
              "      <td>no</td>\n",
              "      <td>no</td>\n",
              "      <td>India</td>\n",
              "      <td>no</td>\n",
              "      <td>2.255185</td>\n",
              "      <td>18 and more</td>\n",
              "      <td>Self</td>\n",
              "      <td>0</td>\n",
              "    </tr>\n",
              "    <tr>\n",
              "      <th>2</th>\n",
              "      <td>3</td>\n",
              "      <td>1</td>\n",
              "      <td>1</td>\n",
              "      <td>1</td>\n",
              "      <td>1</td>\n",
              "      <td>1</td>\n",
              "      <td>1</td>\n",
              "      <td>1</td>\n",
              "      <td>1</td>\n",
              "      <td>1</td>\n",
              "      <td>...</td>\n",
              "      <td>m</td>\n",
              "      <td>White-European</td>\n",
              "      <td>no</td>\n",
              "      <td>yes</td>\n",
              "      <td>United States</td>\n",
              "      <td>no</td>\n",
              "      <td>14.851484</td>\n",
              "      <td>18 and more</td>\n",
              "      <td>Self</td>\n",
              "      <td>1</td>\n",
              "    </tr>\n",
              "    <tr>\n",
              "      <th>3</th>\n",
              "      <td>4</td>\n",
              "      <td>0</td>\n",
              "      <td>0</td>\n",
              "      <td>0</td>\n",
              "      <td>0</td>\n",
              "      <td>0</td>\n",
              "      <td>0</td>\n",
              "      <td>0</td>\n",
              "      <td>0</td>\n",
              "      <td>0</td>\n",
              "      <td>...</td>\n",
              "      <td>f</td>\n",
              "      <td>?</td>\n",
              "      <td>no</td>\n",
              "      <td>no</td>\n",
              "      <td>United States</td>\n",
              "      <td>no</td>\n",
              "      <td>2.276617</td>\n",
              "      <td>18 and more</td>\n",
              "      <td>Self</td>\n",
              "      <td>0</td>\n",
              "    </tr>\n",
              "    <tr>\n",
              "      <th>4</th>\n",
              "      <td>5</td>\n",
              "      <td>0</td>\n",
              "      <td>0</td>\n",
              "      <td>0</td>\n",
              "      <td>0</td>\n",
              "      <td>0</td>\n",
              "      <td>0</td>\n",
              "      <td>0</td>\n",
              "      <td>0</td>\n",
              "      <td>0</td>\n",
              "      <td>...</td>\n",
              "      <td>m</td>\n",
              "      <td>?</td>\n",
              "      <td>no</td>\n",
              "      <td>no</td>\n",
              "      <td>South Africa</td>\n",
              "      <td>no</td>\n",
              "      <td>-4.777286</td>\n",
              "      <td>18 and more</td>\n",
              "      <td>Self</td>\n",
              "      <td>0</td>\n",
              "    </tr>\n",
              "  </tbody>\n",
              "</table>\n",
              "<p>5 rows × 22 columns</p>\n",
              "</div>\n",
              "      <button class=\"colab-df-convert\" onclick=\"convertToInteractive('df-f3472224-294c-4804-b65b-28692afb5f3f')\"\n",
              "              title=\"Convert this dataframe to an interactive table.\"\n",
              "              style=\"display:none;\">\n",
              "        \n",
              "  <svg xmlns=\"http://www.w3.org/2000/svg\" height=\"24px\"viewBox=\"0 0 24 24\"\n",
              "       width=\"24px\">\n",
              "    <path d=\"M0 0h24v24H0V0z\" fill=\"none\"/>\n",
              "    <path d=\"M18.56 5.44l.94 2.06.94-2.06 2.06-.94-2.06-.94-.94-2.06-.94 2.06-2.06.94zm-11 1L8.5 8.5l.94-2.06 2.06-.94-2.06-.94L8.5 2.5l-.94 2.06-2.06.94zm10 10l.94 2.06.94-2.06 2.06-.94-2.06-.94-.94-2.06-.94 2.06-2.06.94z\"/><path d=\"M17.41 7.96l-1.37-1.37c-.4-.4-.92-.59-1.43-.59-.52 0-1.04.2-1.43.59L10.3 9.45l-7.72 7.72c-.78.78-.78 2.05 0 2.83L4 21.41c.39.39.9.59 1.41.59.51 0 1.02-.2 1.41-.59l7.78-7.78 2.81-2.81c.8-.78.8-2.07 0-2.86zM5.41 20L4 18.59l7.72-7.72 1.47 1.35L5.41 20z\"/>\n",
              "  </svg>\n",
              "      </button>\n",
              "      \n",
              "  <style>\n",
              "    .colab-df-container {\n",
              "      display:flex;\n",
              "      flex-wrap:wrap;\n",
              "      gap: 12px;\n",
              "    }\n",
              "\n",
              "    .colab-df-convert {\n",
              "      background-color: #E8F0FE;\n",
              "      border: none;\n",
              "      border-radius: 50%;\n",
              "      cursor: pointer;\n",
              "      display: none;\n",
              "      fill: #1967D2;\n",
              "      height: 32px;\n",
              "      padding: 0 0 0 0;\n",
              "      width: 32px;\n",
              "    }\n",
              "\n",
              "    .colab-df-convert:hover {\n",
              "      background-color: #E2EBFA;\n",
              "      box-shadow: 0px 1px 2px rgba(60, 64, 67, 0.3), 0px 1px 3px 1px rgba(60, 64, 67, 0.15);\n",
              "      fill: #174EA6;\n",
              "    }\n",
              "\n",
              "    [theme=dark] .colab-df-convert {\n",
              "      background-color: #3B4455;\n",
              "      fill: #D2E3FC;\n",
              "    }\n",
              "\n",
              "    [theme=dark] .colab-df-convert:hover {\n",
              "      background-color: #434B5C;\n",
              "      box-shadow: 0px 1px 3px 1px rgba(0, 0, 0, 0.15);\n",
              "      filter: drop-shadow(0px 1px 2px rgba(0, 0, 0, 0.3));\n",
              "      fill: #FFFFFF;\n",
              "    }\n",
              "  </style>\n",
              "\n",
              "      <script>\n",
              "        const buttonEl =\n",
              "          document.querySelector('#df-f3472224-294c-4804-b65b-28692afb5f3f button.colab-df-convert');\n",
              "        buttonEl.style.display =\n",
              "          google.colab.kernel.accessAllowed ? 'block' : 'none';\n",
              "\n",
              "        async function convertToInteractive(key) {\n",
              "          const element = document.querySelector('#df-f3472224-294c-4804-b65b-28692afb5f3f');\n",
              "          const dataTable =\n",
              "            await google.colab.kernel.invokeFunction('convertToInteractive',\n",
              "                                                     [key], {});\n",
              "          if (!dataTable) return;\n",
              "\n",
              "          const docLinkHtml = 'Like what you see? Visit the ' +\n",
              "            '<a target=\"_blank\" href=https://colab.research.google.com/notebooks/data_table.ipynb>data table notebook</a>'\n",
              "            + ' to learn more about interactive tables.';\n",
              "          element.innerHTML = '';\n",
              "          dataTable['output_type'] = 'display_data';\n",
              "          await google.colab.output.renderOutput(dataTable, element);\n",
              "          const docLink = document.createElement('div');\n",
              "          docLink.innerHTML = docLinkHtml;\n",
              "          element.appendChild(docLink);\n",
              "        }\n",
              "      </script>\n",
              "    </div>\n",
              "  </div>\n",
              "  "
            ]
          },
          "metadata": {},
          "execution_count": 5
        }
      ]
    },
    {
      "cell_type": "code",
      "source": [
        "\n",
        "\n",
        "# Identify the target column\n",
        "[x for x in train_df.columns if x not in test_df.columns]\n",
        "\n"
      ],
      "metadata": {
        "colab": {
          "base_uri": "https://localhost:8080/"
        },
        "id": "x6BYs8aBdZmB",
        "outputId": "c8eba71e-cad6-47e7-d453-0f7cf7e84bdb"
      },
      "execution_count": 6,
      "outputs": [
        {
          "output_type": "execute_result",
          "data": {
            "text/plain": [
              "['Class/ASD']"
            ]
          },
          "metadata": {},
          "execution_count": 6
        }
      ]
    },
    {
      "cell_type": "code",
      "source": [
        "\n",
        "\n",
        "# Using info() to find the non null rows and data type across columns\n",
        "train_df.info()\n",
        "\n"
      ],
      "metadata": {
        "colab": {
          "base_uri": "https://localhost:8080/"
        },
        "id": "oRZElou-dd8m",
        "outputId": "2c9615c3-4846-41ed-89aa-f24743a5d83e"
      },
      "execution_count": 7,
      "outputs": [
        {
          "output_type": "stream",
          "name": "stdout",
          "text": [
            "<class 'pandas.core.frame.DataFrame'>\n",
            "RangeIndex: 800 entries, 0 to 799\n",
            "Data columns (total 22 columns):\n",
            " #   Column           Non-Null Count  Dtype  \n",
            "---  ------           --------------  -----  \n",
            " 0   ID               800 non-null    int64  \n",
            " 1   A1_Score         800 non-null    int64  \n",
            " 2   A2_Score         800 non-null    int64  \n",
            " 3   A3_Score         800 non-null    int64  \n",
            " 4   A4_Score         800 non-null    int64  \n",
            " 5   A5_Score         800 non-null    int64  \n",
            " 6   A6_Score         800 non-null    int64  \n",
            " 7   A7_Score         800 non-null    int64  \n",
            " 8   A8_Score         800 non-null    int64  \n",
            " 9   A9_Score         800 non-null    int64  \n",
            " 10  A10_Score        800 non-null    int64  \n",
            " 11  age              800 non-null    float64\n",
            " 12  gender           800 non-null    object \n",
            " 13  ethnicity        800 non-null    object \n",
            " 14  jaundice         800 non-null    object \n",
            " 15  austim           800 non-null    object \n",
            " 16  contry_of_res    800 non-null    object \n",
            " 17  used_app_before  800 non-null    object \n",
            " 18  result           800 non-null    float64\n",
            " 19  age_desc         800 non-null    object \n",
            " 20  relation         800 non-null    object \n",
            " 21  Class/ASD        800 non-null    int64  \n",
            "dtypes: float64(2), int64(12), object(8)\n",
            "memory usage: 137.6+ KB\n"
          ]
        }
      ]
    },
    {
      "cell_type": "code",
      "source": [
        "\n",
        "\n",
        "# Function to extract the categorical columns and numerical columns in separate list for ease of EDA\n",
        "def get_num_cat_cols(df):\n",
        "    \n",
        "    num_cls = [x for x in df.columns if df[x].dtype != 'object']\n",
        "    cat_cls = [x for x in df.columns if x not in num_cls]\n",
        "\n",
        "    print(f'Numerical columns \\n',num_cls)\n",
        "    print(f'Categorical columns \\n',cat_cls)\n",
        "    \n",
        "    return num_cls, cat_cls\n",
        "\n"
      ],
      "metadata": {
        "id": "dqLdkjZKdfh-"
      },
      "execution_count": 8,
      "outputs": []
    },
    {
      "cell_type": "code",
      "source": [
        "num_cols, cat_cols = get_num_cat_cols(train_df)"
      ],
      "metadata": {
        "colab": {
          "base_uri": "https://localhost:8080/"
        },
        "id": "_lORsO9CdnVT",
        "outputId": "cd63268d-c07a-42db-8bc3-75594018d283"
      },
      "execution_count": 9,
      "outputs": [
        {
          "output_type": "stream",
          "name": "stdout",
          "text": [
            "Numerical columns \n",
            " ['ID', 'A1_Score', 'A2_Score', 'A3_Score', 'A4_Score', 'A5_Score', 'A6_Score', 'A7_Score', 'A8_Score', 'A9_Score', 'A10_Score', 'age', 'result', 'Class/ASD']\n",
            "Categorical columns \n",
            " ['gender', 'ethnicity', 'jaundice', 'austim', 'contry_of_res', 'used_app_before', 'age_desc', 'relation']\n"
          ]
        }
      ]
    },
    {
      "cell_type": "code",
      "source": [
        "\n",
        "\n",
        "# Descriptive statistics for numerical columns\n",
        "train_df[num_cols].describe()\n",
        "\n"
      ],
      "metadata": {
        "colab": {
          "base_uri": "https://localhost:8080/",
          "height": 364
        },
        "id": "qRA46rgIdpRm",
        "outputId": "40a7f9cf-ed98-4356-eaa7-01a2d10530b1"
      },
      "execution_count": 10,
      "outputs": [
        {
          "output_type": "execute_result",
          "data": {
            "text/plain": [
              "             ID    A1_Score    A2_Score    A3_Score   A4_Score    A5_Score  \\\n",
              "count  800.0000  800.000000  800.000000  800.000000  800.00000  800.000000   \n",
              "mean   400.5000    0.560000    0.530000    0.450000    0.41500    0.395000   \n",
              "std    231.0844    0.496697    0.499411    0.497805    0.49303    0.489157   \n",
              "min      1.0000    0.000000    0.000000    0.000000    0.00000    0.000000   \n",
              "25%    200.7500    0.000000    0.000000    0.000000    0.00000    0.000000   \n",
              "50%    400.5000    1.000000    1.000000    0.000000    0.00000    0.000000   \n",
              "75%    600.2500    1.000000    1.000000    1.000000    1.00000    1.000000   \n",
              "max    800.0000    1.000000    1.000000    1.000000    1.00000    1.000000   \n",
              "\n",
              "         A6_Score    A7_Score    A8_Score    A9_Score   A10_Score         age  \\\n",
              "count  800.000000  800.000000  800.000000  800.000000  800.000000  800.000000   \n",
              "mean     0.303750    0.397500    0.508750    0.495000    0.617500   28.452118   \n",
              "std      0.460164    0.489687    0.500236    0.500288    0.486302   16.310966   \n",
              "min      0.000000    0.000000    0.000000    0.000000    0.000000    2.718550   \n",
              "25%      0.000000    0.000000    0.000000    0.000000    0.000000   17.198153   \n",
              "50%      0.000000    0.000000    1.000000    0.000000    1.000000   24.848350   \n",
              "75%      1.000000    1.000000    1.000000    1.000000    1.000000   35.865429   \n",
              "max      1.000000    1.000000    1.000000    1.000000    1.000000   89.461718   \n",
              "\n",
              "           result   Class/ASD  \n",
              "count  800.000000  800.000000  \n",
              "mean     8.537303    0.201250  \n",
              "std      4.807676    0.401185  \n",
              "min     -6.137748    0.000000  \n",
              "25%      5.306575    0.000000  \n",
              "50%      9.605299    0.000000  \n",
              "75%     12.514484    0.000000  \n",
              "max     15.853126    1.000000  "
            ],
            "text/html": [
              "\n",
              "  <div id=\"df-258165b2-94ae-400d-bd51-9b45bf6e55f8\">\n",
              "    <div class=\"colab-df-container\">\n",
              "      <div>\n",
              "<style scoped>\n",
              "    .dataframe tbody tr th:only-of-type {\n",
              "        vertical-align: middle;\n",
              "    }\n",
              "\n",
              "    .dataframe tbody tr th {\n",
              "        vertical-align: top;\n",
              "    }\n",
              "\n",
              "    .dataframe thead th {\n",
              "        text-align: right;\n",
              "    }\n",
              "</style>\n",
              "<table border=\"1\" class=\"dataframe\">\n",
              "  <thead>\n",
              "    <tr style=\"text-align: right;\">\n",
              "      <th></th>\n",
              "      <th>ID</th>\n",
              "      <th>A1_Score</th>\n",
              "      <th>A2_Score</th>\n",
              "      <th>A3_Score</th>\n",
              "      <th>A4_Score</th>\n",
              "      <th>A5_Score</th>\n",
              "      <th>A6_Score</th>\n",
              "      <th>A7_Score</th>\n",
              "      <th>A8_Score</th>\n",
              "      <th>A9_Score</th>\n",
              "      <th>A10_Score</th>\n",
              "      <th>age</th>\n",
              "      <th>result</th>\n",
              "      <th>Class/ASD</th>\n",
              "    </tr>\n",
              "  </thead>\n",
              "  <tbody>\n",
              "    <tr>\n",
              "      <th>count</th>\n",
              "      <td>800.0000</td>\n",
              "      <td>800.000000</td>\n",
              "      <td>800.000000</td>\n",
              "      <td>800.000000</td>\n",
              "      <td>800.00000</td>\n",
              "      <td>800.000000</td>\n",
              "      <td>800.000000</td>\n",
              "      <td>800.000000</td>\n",
              "      <td>800.000000</td>\n",
              "      <td>800.000000</td>\n",
              "      <td>800.000000</td>\n",
              "      <td>800.000000</td>\n",
              "      <td>800.000000</td>\n",
              "      <td>800.000000</td>\n",
              "    </tr>\n",
              "    <tr>\n",
              "      <th>mean</th>\n",
              "      <td>400.5000</td>\n",
              "      <td>0.560000</td>\n",
              "      <td>0.530000</td>\n",
              "      <td>0.450000</td>\n",
              "      <td>0.41500</td>\n",
              "      <td>0.395000</td>\n",
              "      <td>0.303750</td>\n",
              "      <td>0.397500</td>\n",
              "      <td>0.508750</td>\n",
              "      <td>0.495000</td>\n",
              "      <td>0.617500</td>\n",
              "      <td>28.452118</td>\n",
              "      <td>8.537303</td>\n",
              "      <td>0.201250</td>\n",
              "    </tr>\n",
              "    <tr>\n",
              "      <th>std</th>\n",
              "      <td>231.0844</td>\n",
              "      <td>0.496697</td>\n",
              "      <td>0.499411</td>\n",
              "      <td>0.497805</td>\n",
              "      <td>0.49303</td>\n",
              "      <td>0.489157</td>\n",
              "      <td>0.460164</td>\n",
              "      <td>0.489687</td>\n",
              "      <td>0.500236</td>\n",
              "      <td>0.500288</td>\n",
              "      <td>0.486302</td>\n",
              "      <td>16.310966</td>\n",
              "      <td>4.807676</td>\n",
              "      <td>0.401185</td>\n",
              "    </tr>\n",
              "    <tr>\n",
              "      <th>min</th>\n",
              "      <td>1.0000</td>\n",
              "      <td>0.000000</td>\n",
              "      <td>0.000000</td>\n",
              "      <td>0.000000</td>\n",
              "      <td>0.00000</td>\n",
              "      <td>0.000000</td>\n",
              "      <td>0.000000</td>\n",
              "      <td>0.000000</td>\n",
              "      <td>0.000000</td>\n",
              "      <td>0.000000</td>\n",
              "      <td>0.000000</td>\n",
              "      <td>2.718550</td>\n",
              "      <td>-6.137748</td>\n",
              "      <td>0.000000</td>\n",
              "    </tr>\n",
              "    <tr>\n",
              "      <th>25%</th>\n",
              "      <td>200.7500</td>\n",
              "      <td>0.000000</td>\n",
              "      <td>0.000000</td>\n",
              "      <td>0.000000</td>\n",
              "      <td>0.00000</td>\n",
              "      <td>0.000000</td>\n",
              "      <td>0.000000</td>\n",
              "      <td>0.000000</td>\n",
              "      <td>0.000000</td>\n",
              "      <td>0.000000</td>\n",
              "      <td>0.000000</td>\n",
              "      <td>17.198153</td>\n",
              "      <td>5.306575</td>\n",
              "      <td>0.000000</td>\n",
              "    </tr>\n",
              "    <tr>\n",
              "      <th>50%</th>\n",
              "      <td>400.5000</td>\n",
              "      <td>1.000000</td>\n",
              "      <td>1.000000</td>\n",
              "      <td>0.000000</td>\n",
              "      <td>0.00000</td>\n",
              "      <td>0.000000</td>\n",
              "      <td>0.000000</td>\n",
              "      <td>0.000000</td>\n",
              "      <td>1.000000</td>\n",
              "      <td>0.000000</td>\n",
              "      <td>1.000000</td>\n",
              "      <td>24.848350</td>\n",
              "      <td>9.605299</td>\n",
              "      <td>0.000000</td>\n",
              "    </tr>\n",
              "    <tr>\n",
              "      <th>75%</th>\n",
              "      <td>600.2500</td>\n",
              "      <td>1.000000</td>\n",
              "      <td>1.000000</td>\n",
              "      <td>1.000000</td>\n",
              "      <td>1.00000</td>\n",
              "      <td>1.000000</td>\n",
              "      <td>1.000000</td>\n",
              "      <td>1.000000</td>\n",
              "      <td>1.000000</td>\n",
              "      <td>1.000000</td>\n",
              "      <td>1.000000</td>\n",
              "      <td>35.865429</td>\n",
              "      <td>12.514484</td>\n",
              "      <td>0.000000</td>\n",
              "    </tr>\n",
              "    <tr>\n",
              "      <th>max</th>\n",
              "      <td>800.0000</td>\n",
              "      <td>1.000000</td>\n",
              "      <td>1.000000</td>\n",
              "      <td>1.000000</td>\n",
              "      <td>1.00000</td>\n",
              "      <td>1.000000</td>\n",
              "      <td>1.000000</td>\n",
              "      <td>1.000000</td>\n",
              "      <td>1.000000</td>\n",
              "      <td>1.000000</td>\n",
              "      <td>1.000000</td>\n",
              "      <td>89.461718</td>\n",
              "      <td>15.853126</td>\n",
              "      <td>1.000000</td>\n",
              "    </tr>\n",
              "  </tbody>\n",
              "</table>\n",
              "</div>\n",
              "      <button class=\"colab-df-convert\" onclick=\"convertToInteractive('df-258165b2-94ae-400d-bd51-9b45bf6e55f8')\"\n",
              "              title=\"Convert this dataframe to an interactive table.\"\n",
              "              style=\"display:none;\">\n",
              "        \n",
              "  <svg xmlns=\"http://www.w3.org/2000/svg\" height=\"24px\"viewBox=\"0 0 24 24\"\n",
              "       width=\"24px\">\n",
              "    <path d=\"M0 0h24v24H0V0z\" fill=\"none\"/>\n",
              "    <path d=\"M18.56 5.44l.94 2.06.94-2.06 2.06-.94-2.06-.94-.94-2.06-.94 2.06-2.06.94zm-11 1L8.5 8.5l.94-2.06 2.06-.94-2.06-.94L8.5 2.5l-.94 2.06-2.06.94zm10 10l.94 2.06.94-2.06 2.06-.94-2.06-.94-.94-2.06-.94 2.06-2.06.94z\"/><path d=\"M17.41 7.96l-1.37-1.37c-.4-.4-.92-.59-1.43-.59-.52 0-1.04.2-1.43.59L10.3 9.45l-7.72 7.72c-.78.78-.78 2.05 0 2.83L4 21.41c.39.39.9.59 1.41.59.51 0 1.02-.2 1.41-.59l7.78-7.78 2.81-2.81c.8-.78.8-2.07 0-2.86zM5.41 20L4 18.59l7.72-7.72 1.47 1.35L5.41 20z\"/>\n",
              "  </svg>\n",
              "      </button>\n",
              "      \n",
              "  <style>\n",
              "    .colab-df-container {\n",
              "      display:flex;\n",
              "      flex-wrap:wrap;\n",
              "      gap: 12px;\n",
              "    }\n",
              "\n",
              "    .colab-df-convert {\n",
              "      background-color: #E8F0FE;\n",
              "      border: none;\n",
              "      border-radius: 50%;\n",
              "      cursor: pointer;\n",
              "      display: none;\n",
              "      fill: #1967D2;\n",
              "      height: 32px;\n",
              "      padding: 0 0 0 0;\n",
              "      width: 32px;\n",
              "    }\n",
              "\n",
              "    .colab-df-convert:hover {\n",
              "      background-color: #E2EBFA;\n",
              "      box-shadow: 0px 1px 2px rgba(60, 64, 67, 0.3), 0px 1px 3px 1px rgba(60, 64, 67, 0.15);\n",
              "      fill: #174EA6;\n",
              "    }\n",
              "\n",
              "    [theme=dark] .colab-df-convert {\n",
              "      background-color: #3B4455;\n",
              "      fill: #D2E3FC;\n",
              "    }\n",
              "\n",
              "    [theme=dark] .colab-df-convert:hover {\n",
              "      background-color: #434B5C;\n",
              "      box-shadow: 0px 1px 3px 1px rgba(0, 0, 0, 0.15);\n",
              "      filter: drop-shadow(0px 1px 2px rgba(0, 0, 0, 0.3));\n",
              "      fill: #FFFFFF;\n",
              "    }\n",
              "  </style>\n",
              "\n",
              "      <script>\n",
              "        const buttonEl =\n",
              "          document.querySelector('#df-258165b2-94ae-400d-bd51-9b45bf6e55f8 button.colab-df-convert');\n",
              "        buttonEl.style.display =\n",
              "          google.colab.kernel.accessAllowed ? 'block' : 'none';\n",
              "\n",
              "        async function convertToInteractive(key) {\n",
              "          const element = document.querySelector('#df-258165b2-94ae-400d-bd51-9b45bf6e55f8');\n",
              "          const dataTable =\n",
              "            await google.colab.kernel.invokeFunction('convertToInteractive',\n",
              "                                                     [key], {});\n",
              "          if (!dataTable) return;\n",
              "\n",
              "          const docLinkHtml = 'Like what you see? Visit the ' +\n",
              "            '<a target=\"_blank\" href=https://colab.research.google.com/notebooks/data_table.ipynb>data table notebook</a>'\n",
              "            + ' to learn more about interactive tables.';\n",
              "          element.innerHTML = '';\n",
              "          dataTable['output_type'] = 'display_data';\n",
              "          await google.colab.output.renderOutput(dataTable, element);\n",
              "          const docLink = document.createElement('div');\n",
              "          docLink.innerHTML = docLinkHtml;\n",
              "          element.appendChild(docLink);\n",
              "        }\n",
              "      </script>\n",
              "    </div>\n",
              "  </div>\n",
              "  "
            ]
          },
          "metadata": {},
          "execution_count": 10
        }
      ]
    },
    {
      "cell_type": "markdown",
      "source": [
        "\n",
        "\n",
        "**Inference**\n",
        "1. Columns - A1_Score to A10_Score has value either 0 or 1, to be considered as binary variable.\n",
        "2. Age starts from min 2 yrs to max 89 yrs with median value in 24.8 yrs and average value in 28.45 yrs.\n",
        "3. Result value ranges from -6.13 to +15.85.\n",
        "4. Target column indicates there is 20% have Autism and 80% dont have autism.\n",
        "\n"
      ],
      "metadata": {
        "id": "bTOlsmQqf5ZP"
      }
    },
    {
      "cell_type": "code",
      "source": [
        "# Find the unique values with counts in categorical variables, and check for special characters to do cleaning\n",
        "for c in cat_cols:\n",
        "    print('-'*100)\n",
        "    print(f'Column Name - {c}')\n",
        "    print('-'*100)\n",
        "    print(train_df[c].value_counts())"
      ],
      "metadata": {
        "colab": {
          "base_uri": "https://localhost:8080/"
        },
        "id": "VeYedbtZdqqf",
        "outputId": "db664096-4447-4240-8198-97d1df9b0c10"
      },
      "execution_count": 11,
      "outputs": [
        {
          "output_type": "stream",
          "name": "stdout",
          "text": [
            "----------------------------------------------------------------------------------------------------\n",
            "Column Name - gender\n",
            "----------------------------------------------------------------------------------------------------\n",
            "m    530\n",
            "f    270\n",
            "Name: gender, dtype: int64\n",
            "----------------------------------------------------------------------------------------------------\n",
            "Column Name - ethnicity\n",
            "----------------------------------------------------------------------------------------------------\n",
            "White-European     257\n",
            "?                  203\n",
            "Middle Eastern      97\n",
            "Asian               67\n",
            "Black               47\n",
            "South Asian         34\n",
            "Pasifika            32\n",
            "Others              29\n",
            "Latino              17\n",
            "Hispanic             9\n",
            "Turkish              5\n",
            "others               3\n",
            "Name: ethnicity, dtype: int64\n",
            "----------------------------------------------------------------------------------------------------\n",
            "Column Name - jaundice\n",
            "----------------------------------------------------------------------------------------------------\n",
            "no     615\n",
            "yes    185\n",
            "Name: jaundice, dtype: int64\n",
            "----------------------------------------------------------------------------------------------------\n",
            "Column Name - austim\n",
            "----------------------------------------------------------------------------------------------------\n",
            "no     669\n",
            "yes    131\n",
            "Name: austim, dtype: int64\n",
            "----------------------------------------------------------------------------------------------------\n",
            "Column Name - contry_of_res\n",
            "----------------------------------------------------------------------------------------------------\n",
            "United States           134\n",
            "India                   108\n",
            "New Zealand              78\n",
            "United Kingdom           67\n",
            "Jordan                   55\n",
            "United Arab Emirates     40\n",
            "Australia                37\n",
            "Canada                   30\n",
            "Afghanistan              22\n",
            "Netherlands              20\n",
            "Austria                  18\n",
            "Sri Lanka                17\n",
            "Brazil                   12\n",
            "Spain                    10\n",
            "France                   10\n",
            "Kazakhstan               10\n",
            "Ireland                   9\n",
            "Iran                      8\n",
            "Russia                    7\n",
            "South Africa              6\n",
            "Italy                     6\n",
            "Bahamas                   6\n",
            "Malaysia                  6\n",
            "Viet Nam                  5\n",
            "Pakistan                  4\n",
            "China                     4\n",
            "Mexico                    4\n",
            "Nicaragua                 4\n",
            "Armenia                   4\n",
            "Azerbaijan                4\n",
            "Iraq                      4\n",
            "Aruba                     4\n",
            "Saudi Arabia              4\n",
            "AmericanSamoa             4\n",
            "Bolivia                   3\n",
            "Serbia                    3\n",
            "Ethiopia                  3\n",
            "Iceland                   3\n",
            "Germany                   3\n",
            "Ukraine                   3\n",
            "Niger                     3\n",
            "Cyprus                    2\n",
            "Sweden                    2\n",
            "Oman                      2\n",
            "Belgium                   1\n",
            "Romania                   1\n",
            "Burundi                   1\n",
            "Czech Republic            1\n",
            "Egypt                     1\n",
            "Angola                    1\n",
            "Sierra Leone              1\n",
            "Japan                     1\n",
            "Argentina                 1\n",
            "Tonga                     1\n",
            "Hong Kong                 1\n",
            "Bangladesh                1\n",
            "Name: contry_of_res, dtype: int64\n",
            "----------------------------------------------------------------------------------------------------\n",
            "Column Name - used_app_before\n",
            "----------------------------------------------------------------------------------------------------\n",
            "no     750\n",
            "yes     50\n",
            "Name: used_app_before, dtype: int64\n",
            "----------------------------------------------------------------------------------------------------\n",
            "Column Name - age_desc\n",
            "----------------------------------------------------------------------------------------------------\n",
            "18 and more    800\n",
            "Name: age_desc, dtype: int64\n",
            "----------------------------------------------------------------------------------------------------\n",
            "Column Name - relation\n",
            "----------------------------------------------------------------------------------------------------\n",
            "Self                        709\n",
            "?                            40\n",
            "Parent                       29\n",
            "Relative                     18\n",
            "Others                        2\n",
            "Health care professional      2\n",
            "Name: relation, dtype: int64\n"
          ]
        }
      ]
    },
    {
      "cell_type": "code",
      "source": [
        "train_df['relation'] = train_df['relation'].replace('?','Others')\n",
        "train_df['ethnicity'] = train_df['ethnicity'].replace('?','others')\n",
        "\n",
        "test_df['relation'] = test_df['relation'].replace('?','Others')\n",
        "test_df['ethnicity'] = test_df['ethnicity'].replace('?','others')"
      ],
      "metadata": {
        "id": "2e5GJ4rhduwn"
      },
      "execution_count": 12,
      "outputs": []
    },
    {
      "cell_type": "code",
      "source": [
        "\n",
        "\n",
        "# checking the value in test data, to drop the column in both train and test dataset\n",
        "test_df['age_desc'].value_counts()\n",
        "\n"
      ],
      "metadata": {
        "colab": {
          "base_uri": "https://localhost:8080/"
        },
        "id": "BBg0sbtld0AU",
        "outputId": "9b45e9a1-3dc2-454d-b33a-36804e07011c"
      },
      "execution_count": 13,
      "outputs": [
        {
          "output_type": "execute_result",
          "data": {
            "text/plain": [
              "18 and more    200\n",
              "Name: age_desc, dtype: int64"
            ]
          },
          "metadata": {},
          "execution_count": 13
        }
      ]
    },
    {
      "cell_type": "code",
      "source": [
        "\n",
        "\n",
        "train_df.drop('age_desc',axis=1,inplace=True)\n",
        "test_df.drop('age_desc',axis=1,inplace=True)\n",
        "\n"
      ],
      "metadata": {
        "id": "PIo2mTKvd4WF"
      },
      "execution_count": 14,
      "outputs": []
    },
    {
      "cell_type": "code",
      "source": [
        "# Recreating the numerical and categorical columns list\n",
        "num_cols, cat_cols = get_num_cat_cols(train_df)"
      ],
      "metadata": {
        "colab": {
          "base_uri": "https://localhost:8080/"
        },
        "id": "x6bpN4TTd62c",
        "outputId": "e9fc6948-a7e5-4b11-fbed-7cc3e4ff9634"
      },
      "execution_count": 15,
      "outputs": [
        {
          "output_type": "stream",
          "name": "stdout",
          "text": [
            "Numerical columns \n",
            " ['ID', 'A1_Score', 'A2_Score', 'A3_Score', 'A4_Score', 'A5_Score', 'A6_Score', 'A7_Score', 'A8_Score', 'A9_Score', 'A10_Score', 'age', 'result', 'Class/ASD']\n",
            "Categorical columns \n",
            " ['gender', 'ethnicity', 'jaundice', 'austim', 'contry_of_res', 'used_app_before', 'relation']\n"
          ]
        }
      ]
    },
    {
      "cell_type": "code",
      "source": [
        "\n",
        "\n",
        "# Moving the binary variables in numerical columns to categorical columns list, for EDA\n",
        "cat_cols = cat_cols + [x for x in num_cols if '_Score' in x]\n",
        "print(cat_cols)\n",
        "num_cols = [x for x in num_cols if x not in cat_cols]\n",
        "print(num_cols)\n",
        "\n"
      ],
      "metadata": {
        "colab": {
          "base_uri": "https://localhost:8080/"
        },
        "id": "woawurGsd8w3",
        "outputId": "2961bee8-bb27-4478-f953-2f44820c7cef"
      },
      "execution_count": 16,
      "outputs": [
        {
          "output_type": "stream",
          "name": "stdout",
          "text": [
            "['gender', 'ethnicity', 'jaundice', 'austim', 'contry_of_res', 'used_app_before', 'relation', 'A1_Score', 'A2_Score', 'A3_Score', 'A4_Score', 'A5_Score', 'A6_Score', 'A7_Score', 'A8_Score', 'A9_Score', 'A10_Score']\n",
            "['ID', 'age', 'result', 'Class/ASD']\n"
          ]
        }
      ]
    },
    {
      "cell_type": "code",
      "source": [
        "\n",
        "\n",
        "# Feature - age\n",
        "sns.boxplot(x = train_df['Class/ASD'], y = train_df['age'])\n",
        "\n"
      ],
      "metadata": {
        "colab": {
          "base_uri": "https://localhost:8080/",
          "height": 297
        },
        "id": "_GHti6OteAz1",
        "outputId": "9168a7e4-57aa-47db-ad53-82b11eb0878c"
      },
      "execution_count": 17,
      "outputs": [
        {
          "output_type": "execute_result",
          "data": {
            "text/plain": [
              "<matplotlib.axes._subplots.AxesSubplot at 0x7f963c235d10>"
            ]
          },
          "metadata": {},
          "execution_count": 17
        },
        {
          "output_type": "display_data",
          "data": {
            "text/plain": [
              "<Figure size 432x288 with 1 Axes>"
            ],
            "image/png": "[encoded data removed]"
          },
          "metadata": {
            "needs_background": "light"
          }
        }
      ]
    },
    {
      "cell_type": "code",
      "source": [
        "\n",
        "\n",
        "sns.histplot(x = train_df['age'], hue = train_df['Class/ASD'])\n",
        "\n"
      ],
      "metadata": {
        "colab": {
          "base_uri": "https://localhost:8080/",
          "height": 297
        },
        "id": "82Mi4-z6eEYX",
        "outputId": "61cf3486-b9a8-43e0-dc3c-3cadf4d1d333"
      },
      "execution_count": 18,
      "outputs": [
        {
          "output_type": "execute_result",
          "data": {
            "text/plain": [
              "<matplotlib.axes._subplots.AxesSubplot at 0x7f963c286710>"
            ]
          },
          "metadata": {},
          "execution_count": 18
        },
        {
          "output_type": "display_data",
          "data": {
            "text/plain": [
              "<Figure size 432x288 with 1 Axes>"
            ],
            "image/png": "[encoded data removed]"
          },
          "metadata": {
            "needs_background": "light"
          }
        }
      ]
    },
    {
      "cell_type": "code",
      "source": [
        "\n",
        "\n",
        "# Feature - result\n",
        "sns.boxplot(x = train_df['Class/ASD'], y = train_df['result'])\n",
        "\n"
      ],
      "metadata": {
        "colab": {
          "base_uri": "https://localhost:8080/",
          "height": 297
        },
        "id": "EnN2xIBseRAR",
        "outputId": "a3e6f14e-d8f9-4387-93d2-866768707640"
      },
      "execution_count": 19,
      "outputs": [
        {
          "output_type": "execute_result",
          "data": {
            "text/plain": [
              "<matplotlib.axes._subplots.AxesSubplot at 0x7f963bbff4d0>"
            ]
          },
          "metadata": {},
          "execution_count": 19
        },
        {
          "output_type": "display_data",
          "data": {
            "text/plain": [
              "<Figure size 432x288 with 1 Axes>"
            ],
            "image/png": "[encoded data removed]"
          },
          "metadata": {
            "needs_background": "light"
          }
        }
      ]
    },
    {
      "cell_type": "markdown",
      "source": [
        "\n",
        "\n",
        "Inference\n",
        "\n",
        "    Median result of persons having autism is more than who dont have\n",
        "    Range of result data for person having autism is shorter and higher when compared to person not having autism, this is could be potential classifier of target class\n",
        "\n"
      ],
      "metadata": {
        "id": "_USVYLMMeYax"
      }
    },
    {
      "cell_type": "code",
      "source": [
        "sns.histplot(x = train_df['result'], hue = train_df['Class/ASD'])"
      ],
      "metadata": {
        "colab": {
          "base_uri": "https://localhost:8080/",
          "height": 297
        },
        "id": "RZlxrTV_eSfu",
        "outputId": "030343a6-c2aa-498d-d686-079dacdd3d27"
      },
      "execution_count": 20,
      "outputs": [
        {
          "output_type": "execute_result",
          "data": {
            "text/plain": [
              "<matplotlib.axes._subplots.AxesSubplot at 0x7f963bb50490>"
            ]
          },
          "metadata": {},
          "execution_count": 20
        },
        {
          "output_type": "display_data",
          "data": {
            "text/plain": [
              "<Figure size 432x288 with 1 Axes>"
            ],
            "image/png": "[encoded data removed]"
          },
          "metadata": {
            "needs_background": "light"
          }
        }
      ]
    },
    {
      "cell_type": "code",
      "source": [
        "# Function to conduct chi square test between categorical feature and target feature \n",
        "def chi_sq_test(ct):\n",
        "    # input crosstab of 2 categorical variables\n",
        "    stat, p, dof, expected = chi2_contingency(ct)\n",
        "\n",
        "    # interpret p-value\n",
        "    alpha = 0.05\n",
        "    print(\"p value is \" + str(p))\n",
        "    if p <= alpha:\n",
        "        print('Both variables are Dependent (reject H0)')\n",
        "    else:\n",
        "        print('Both variables are Independent (H0 holds true)')"
      ],
      "metadata": {
        "id": "BUje0sbaeiWn"
      },
      "execution_count": 21,
      "outputs": []
    },
    {
      "cell_type": "code",
      "source": [
        "# Function to plot stacked bar graph between categorical feature and target variable, \n",
        "# also helps us know the dependent variable using chisquare function - this step is feature selection\n",
        "def cat_col_test(df, cat_colname, target_colname):\n",
        "    \n",
        "    print(f\"Column name - {cat_colname}\")\n",
        "    ct = pd.crosstab(df[cat_colname],df[target_colname])\n",
        "    chi_sq_test(ct)\n",
        "    ax = ct.plot(kind='bar',stacked=True, rot = 45)\n",
        "    ax.legend(title='mark', bbox_to_anchor=(1, 1.02), loc='upper left')\n",
        "\n",
        "    for c in ax.containers:\n",
        "        ax.bar_label(c, label_type='center')\n",
        "    plt.show()"
      ],
      "metadata": {
        "id": "_NcTUxloekUP"
      },
      "execution_count": 22,
      "outputs": []
    },
    {
      "cell_type": "code",
      "source": [
        "for c in cat_cols:\n",
        "    cat_col_test(train_df, c, 'Class/ASD')"
      ],
      "metadata": {
        "colab": {
          "base_uri": "https://localhost:8080/",
          "height": 611
        },
        "id": "mv5FEN5ZenH_",
        "outputId": "c6a5b67b-2114-4ac6-f4e1-91e578cc4e9e"
      },
      "execution_count": 23,
      "outputs": [
        {
          "output_type": "stream",
          "name": "stdout",
          "text": [
            "Column name - gender\n",
            "p value is 0.9758243168741388\n",
            "Both variables are Independent (H0 holds true)\n"
          ]
        },
        {
          "output_type": "error",
          "ename": "AttributeError",
          "evalue": "ignored",
          "traceback": [
            "\u001b[0;31m---------------------------------------------------------------------------\u001b[0m",
            "\u001b[0;31mAttributeError\u001b[0m                            Traceback (most recent call last)",
            "\u001b[0;32m<ipython-input-23-aa82f20941b1>\u001b[0m in \u001b[0;36m<module>\u001b[0;34m()\u001b[0m\n\u001b[1;32m      1\u001b[0m \u001b[0;32mfor\u001b[0m \u001b[0mc\u001b[0m \u001b[0;32min\u001b[0m \u001b[0mcat_cols\u001b[0m\u001b[0;34m:\u001b[0m\u001b[0;34m\u001b[0m\u001b[0;34m\u001b[0m\u001b[0m\n\u001b[0;32m----> 2\u001b[0;31m     \u001b[0mcat_col_test\u001b[0m\u001b[0;34m(\u001b[0m\u001b[0mtrain_df\u001b[0m\u001b[0;34m,\u001b[0m \u001b[0mc\u001b[0m\u001b[0;34m,\u001b[0m \u001b[0;34m'Class/ASD'\u001b[0m\u001b[0;34m)\u001b[0m\u001b[0;34m\u001b[0m\u001b[0;34m\u001b[0m\u001b[0m\n\u001b[0m",
            "\u001b[0;32m<ipython-input-22-cd8d4090e73f>\u001b[0m in \u001b[0;36mcat_col_test\u001b[0;34m(df, cat_colname, target_colname)\u001b[0m\n\u001b[1;32m     10\u001b[0m \u001b[0;34m\u001b[0m\u001b[0m\n\u001b[1;32m     11\u001b[0m     \u001b[0;32mfor\u001b[0m \u001b[0mc\u001b[0m \u001b[0;32min\u001b[0m \u001b[0max\u001b[0m\u001b[0;34m.\u001b[0m\u001b[0mcontainers\u001b[0m\u001b[0;34m:\u001b[0m\u001b[0;34m\u001b[0m\u001b[0;34m\u001b[0m\u001b[0m\n\u001b[0;32m---> 12\u001b[0;31m         \u001b[0max\u001b[0m\u001b[0;34m.\u001b[0m\u001b[0mbar_label\u001b[0m\u001b[0;34m(\u001b[0m\u001b[0mc\u001b[0m\u001b[0;34m,\u001b[0m \u001b[0mlabel_type\u001b[0m\u001b[0;34m=\u001b[0m\u001b[0;34m'center'\u001b[0m\u001b[0;34m)\u001b[0m\u001b[0;34m\u001b[0m\u001b[0;34m\u001b[0m\u001b[0m\n\u001b[0m\u001b[1;32m     13\u001b[0m     \u001b[0mplt\u001b[0m\u001b[0;34m.\u001b[0m\u001b[0mshow\u001b[0m\u001b[0;34m(\u001b[0m\u001b[0;34m)\u001b[0m\u001b[0;34m\u001b[0m\u001b[0;34m\u001b[0m\u001b[0m\n",
            "\u001b[0;31mAttributeError\u001b[0m: 'AxesSubplot' object has no attribute 'bar_label'"
          ]
        },
        {
          "output_type": "display_data",
          "data": {
            "text/plain": [
              "<Figure size 432x288 with 1 Axes>"
            ],
            "image/png": "[encoded data removed]"
          },
          "metadata": {
            "needs_background": "light"
          }
        }
      ]
    },
    {
      "cell_type": "code",
      "source": [
        "\n",
        "\n",
        "train_df.drop(['used_app_before','gender'],axis=1,inplace=True)\n",
        "test_df.drop(['used_app_before','gender'],axis=1,inplace=True)\n",
        "\n"
      ],
      "metadata": {
        "id": "shvZ5AkXetc_"
      },
      "execution_count": 24,
      "outputs": []
    },
    {
      "cell_type": "code",
      "source": [
        "\n",
        "\n",
        "train_df.columns\n",
        "\n"
      ],
      "metadata": {
        "colab": {
          "base_uri": "https://localhost:8080/"
        },
        "id": "Zmjsfnh2ez1A",
        "outputId": "4f5d3266-0885-4085-e49d-5b54c2427b87"
      },
      "execution_count": 25,
      "outputs": [
        {
          "output_type": "execute_result",
          "data": {
            "text/plain": [
              "Index(['ID', 'A1_Score', 'A2_Score', 'A3_Score', 'A4_Score', 'A5_Score',\n",
              "       'A6_Score', 'A7_Score', 'A8_Score', 'A9_Score', 'A10_Score', 'age',\n",
              "       'ethnicity', 'jaundice', 'austim', 'contry_of_res', 'result',\n",
              "       'relation', 'Class/ASD'],\n",
              "      dtype='object')"
            ]
          },
          "metadata": {},
          "execution_count": 25
        }
      ]
    },
    {
      "cell_type": "code",
      "source": [
        "# one hot encoding for categorical variables with only 2 unique values\n",
        "train_df['jaundice'] = np.where(train_df['jaundice'] == 'yes',1,0)\n",
        "test_df['jaundice'] = np.where(test_df['jaundice'] == 'yes',1,0)\n",
        "\n",
        "train_df['austim'] = np.where(train_df['austim'] == 'yes',1,0)\n",
        "test_df['austim'] = np.where(test_df['austim'] == 'yes',1,0)"
      ],
      "metadata": {
        "id": "ZtW-7RyYe4Zu"
      },
      "execution_count": 26,
      "outputs": []
    },
    {
      "cell_type": "code",
      "source": [
        "# Label encoding based on frequency values of categorical variable\n",
        "dict_ethnicity = dict(zip(train_df['ethnicity'].value_counts().index, range(1,train_df['ethnicity'].nunique()+1)))\n",
        "dict_ethnicity"
      ],
      "metadata": {
        "colab": {
          "base_uri": "https://localhost:8080/"
        },
        "id": "eqP6cQS9e7SB",
        "outputId": "b89d81cb-7ad4-4d89-d3dc-abf150783b07"
      },
      "execution_count": 27,
      "outputs": [
        {
          "output_type": "execute_result",
          "data": {
            "text/plain": [
              "{'Asian': 4,\n",
              " 'Black': 5,\n",
              " 'Hispanic': 10,\n",
              " 'Latino': 9,\n",
              " 'Middle Eastern ': 3,\n",
              " 'Others': 8,\n",
              " 'Pasifika': 7,\n",
              " 'South Asian': 6,\n",
              " 'Turkish': 11,\n",
              " 'White-European': 1,\n",
              " 'others': 2}"
            ]
          },
          "metadata": {},
          "execution_count": 27
        }
      ]
    },
    {
      "cell_type": "code",
      "source": [
        "train_df['ethnicity'] = train_df['ethnicity'].map(dict_ethnicity)\n",
        "test_df['ethnicity'] = test_df['ethnicity'].map(dict_ethnicity)"
      ],
      "metadata": {
        "id": "Rg1W1gaze-Jj"
      },
      "execution_count": 28,
      "outputs": []
    },
    {
      "cell_type": "code",
      "source": [
        "col_name = 'contry_of_res'\n",
        "dict_country = dict(zip(train_df[col_name].value_counts().index, range(1,train_df[col_name].nunique()+1)))\n",
        "train_df[col_name] = train_df[col_name].map(dict_country)\n",
        "test_df[col_name] = test_df[col_name].map(dict_country)"
      ],
      "metadata": {
        "id": "KMPEkyxcfAHS"
      },
      "execution_count": 29,
      "outputs": []
    },
    {
      "cell_type": "code",
      "source": [
        "col_name = 'relation'\n",
        "dict_relation = dict(zip(train_df[col_name].value_counts().index, range(1,train_df[col_name].nunique()+1)))\n",
        "train_df[col_name] = train_df[col_name].map(dict_relation)\n",
        "test_df[col_name] = test_df[col_name].map(dict_relation)"
      ],
      "metadata": {
        "id": "eEZrF4a-fCFC"
      },
      "execution_count": 30,
      "outputs": []
    },
    {
      "cell_type": "code",
      "source": [
        "\n",
        "\n",
        "train_df.isnull().sum()\n",
        "\n"
      ],
      "metadata": {
        "colab": {
          "base_uri": "https://localhost:8080/"
        },
        "id": "IGPqrVyLfFOL",
        "outputId": "ca706672-e7e2-4003-d8e3-1c4ccf30548a"
      },
      "execution_count": 31,
      "outputs": [
        {
          "output_type": "execute_result",
          "data": {
            "text/plain": [
              "ID               0\n",
              "A1_Score         0\n",
              "A2_Score         0\n",
              "A3_Score         0\n",
              "A4_Score         0\n",
              "A5_Score         0\n",
              "A6_Score         0\n",
              "A7_Score         0\n",
              "A8_Score         0\n",
              "A9_Score         0\n",
              "A10_Score        0\n",
              "age              0\n",
              "ethnicity        0\n",
              "jaundice         0\n",
              "austim           0\n",
              "contry_of_res    0\n",
              "result           0\n",
              "relation         0\n",
              "Class/ASD        0\n",
              "dtype: int64"
            ]
          },
          "metadata": {},
          "execution_count": 31
        }
      ]
    },
    {
      "cell_type": "code",
      "source": [
        "\n",
        "\n",
        "test_df.isnull().sum()\n",
        "\n"
      ],
      "metadata": {
        "colab": {
          "base_uri": "https://localhost:8080/"
        },
        "id": "xw5nLBTifJa8",
        "outputId": "069db0ef-4fb3-485c-85f8-6231a4aeb2a3"
      },
      "execution_count": 32,
      "outputs": [
        {
          "output_type": "execute_result",
          "data": {
            "text/plain": [
              "ID               0\n",
              "A1_Score         0\n",
              "A2_Score         0\n",
              "A3_Score         0\n",
              "A4_Score         0\n",
              "A5_Score         0\n",
              "A6_Score         0\n",
              "A7_Score         0\n",
              "A8_Score         0\n",
              "A9_Score         0\n",
              "A10_Score        0\n",
              "age              0\n",
              "ethnicity        0\n",
              "jaundice         0\n",
              "austim           0\n",
              "contry_of_res    3\n",
              "result           0\n",
              "relation         0\n",
              "dtype: int64"
            ]
          },
          "metadata": {},
          "execution_count": 32
        }
      ]
    },
    {
      "cell_type": "code",
      "source": [
        "# Fillna with mode value for categorical variable\n",
        "test_df['contry_of_res'].fillna(1.0,inplace=True)"
      ],
      "metadata": {
        "id": "dtEtTGqrfLoG"
      },
      "execution_count": 33,
      "outputs": []
    },
    {
      "cell_type": "code",
      "source": [
        "X = train_df.drop(['ID','Class/ASD'],axis=1)\n",
        "y = train_df['Class/ASD']\n",
        "\n",
        "X.shape, y.shape"
      ],
      "metadata": {
        "colab": {
          "base_uri": "https://localhost:8080/"
        },
        "id": "sMH3k-wtfOep",
        "outputId": "1e3a16e2-64ab-4187-d501-c097fc0d6c8e"
      },
      "execution_count": 34,
      "outputs": [
        {
          "output_type": "execute_result",
          "data": {
            "text/plain": [
              "((800, 17), (800,))"
            ]
          },
          "metadata": {},
          "execution_count": 34
        }
      ]
    },
    {
      "cell_type": "code",
      "source": [
        "from sklearn.linear_model import LogisticRegression\n",
        "from sklearn.svm import SVC\n",
        "from sklearn.naive_bayes import GaussianNB\n",
        "from sklearn.naive_bayes import MultinomialNB\n",
        "from sklearn.linear_model import SGDClassifier\n",
        "from sklearn.neighbors import KNeighborsClassifier\n",
        "from sklearn.tree import DecisionTreeClassifier\n",
        "from sklearn.ensemble import RandomForestClassifier\n",
        "from sklearn.ensemble import GradientBoostingClassifier\n",
        "from lightgbm import LGBMClassifier\n",
        "from xgboost.sklearn import XGBClassifier\n",
        "from sklearn.neural_network import MLPClassifier"
      ],
      "metadata": {
        "id": "eciLJ7YofQsY"
      },
      "execution_count": 35,
      "outputs": []
    },
    {
      "cell_type": "code",
      "source": [
        "seed = 123\n",
        "model1 = LogisticRegression(max_iter = 500)\n",
        "model2 = SVC(random_state = seed)\n",
        "model3 = GaussianNB()\n",
        "model4 = MLPClassifier(random_state = seed,max_iter=500)\n",
        "model5 = SGDClassifier(random_state = seed)\n",
        "model6 = KNeighborsClassifier()\n",
        "model7 = DecisionTreeClassifier(random_state = seed)\n",
        "model8 = RandomForestClassifier(random_state = seed,class_weight=\"balanced\")\n",
        "model9 = GradientBoostingClassifier(random_state = seed)\n",
        "model10 = LGBMClassifier(random_state = seed)\n",
        "model11 = XGBClassifier(random_state = seed,use_label_encoder=False)"
      ],
      "metadata": {
        "id": "fcs9R1sCfT7d"
      },
      "execution_count": 36,
      "outputs": []
    },
    {
      "cell_type": "code",
      "source": [
        "from sklearn.model_selection import cross_val_score\n",
        "\n",
        "models = [model1,model2,model3,model4,model5,model6,model7,\n",
        "          model8,model9,model10,model11]\n",
        "\n",
        "\n",
        "for m in range(len(models)):\n",
        "    model = models[m]\n",
        "    scores = cross_val_score(model, X, y, scoring = 'roc_auc', cv = 5)\n",
        "    print(f\"For no of trees {m+1} - {np.mean(scores)}\")"
      ],
      "metadata": {
        "colab": {
          "base_uri": "https://localhost:8080/"
        },
        "id": "AcAALFBmfX4u",
        "outputId": "066c1880-1dc6-4825-e970-5e46f00cc16e"
      },
      "execution_count": 37,
      "outputs": [
        {
          "output_type": "stream",
          "name": "stdout",
          "text": [
            "For no of trees 1 - 0.9067675245317346\n",
            "For no of trees 2 - 0.8646327672952457\n",
            "For no of trees 3 - 0.9090057424018732\n",
            "For no of trees 4 - 0.8993940931833094\n",
            "For no of trees 5 - 0.8498409095569375\n",
            "For no of trees 6 - 0.7861399776865605\n",
            "For no of trees 7 - 0.7247017418277262\n",
            "For no of trees 8 - 0.9055184053253995\n",
            "For no of trees 9 - 0.9005207168262348\n",
            "For no of trees 10 - 0.8993564613904796\n",
            "For no of trees 11 - 0.9055655091453412\n"
          ]
        }
      ]
    },
    {
      "cell_type": "code",
      "source": [
        "from sklearn.model_selection import StratifiedKFold\n",
        "from sklearn.metrics import roc_auc_score\n",
        "from sklearn.ensemble import RandomForestClassifier\n",
        "from sklearn.linear_model import LogisticRegression\n",
        "from sklearn.metrics import classification_report\n",
        "\n",
        "kfold = 5\n",
        "skf = StratifiedKFold(n_splits=kfold, shuffle = True)\n",
        "\n",
        "X1 = np.array(X)\n",
        "y1 = np.array(y)\n",
        "scores = []\n",
        "\n",
        "for i, (train_index, test_index) in enumerate(skf.split(X1, y1)):\n",
        "    print('[Fold %d/%d]' % (i + 1, kfold))\n",
        "    X_train, X_valid = X1[train_index], X1[test_index]\n",
        "    y_train, y_valid = y1[train_index], y1[test_index]\n",
        "    \n",
        "    model1 = LogisticRegression(max_iter = 1000, C=1.0,penalty='l2',solver='newton-cg')\n",
        "    model1.fit(X_train,y_train)\n",
        "    y_pred1 = pd.DataFrame(model1.predict_proba(X_valid))[1].values\n",
        "    \n",
        "    model2 = RandomForestClassifier(random_state=123,class_weight=\"balanced\")\n",
        "    model2.fit(X_train,y_train)\n",
        "    y_pred2 = pd.DataFrame(model2.predict_proba(X_valid))[1].values\n",
        "    \n",
        "    model3 = GaussianNB()\n",
        "    model3.fit(X_train,y_train)\n",
        "    y_pred3 = pd.DataFrame(model3.predict_proba(X_valid))[1].values\n",
        "    \n",
        "    y_pred = 0.2 * y_pred1 + 0.15 * y_pred2 + 0.65*y_pred3\n",
        "    score = roc_auc_score(y_valid, y_pred)\n",
        "    y_pred_label = np.where(y_pred<0.5,0,1)\n",
        "    #print(classification_report(y_valid,y_pred_label))\n",
        "    scores.append(score)\n",
        "    \n",
        "    print(f'Fold {i + 1}/{kfold} - Score: {score}')   \n",
        "\n",
        "print(f\"Avg scores - {np.mean(scores)}\")"
      ],
      "metadata": {
        "colab": {
          "base_uri": "https://localhost:8080/"
        },
        "id": "5FQdvA-9feLF",
        "outputId": "18206856-ffe7-48c8-edc7-b48e550d2622"
      },
      "execution_count": 38,
      "outputs": [
        {
          "output_type": "stream",
          "name": "stdout",
          "text": [
            "[Fold 1/5]\n",
            "Fold 1/5 - Score: 0.89404296875\n",
            "[Fold 2/5]\n",
            "Fold 2/5 - Score: 0.91259765625\n",
            "[Fold 3/5]\n",
            "Fold 3/5 - Score: 0.906494140625\n",
            "[Fold 4/5]\n",
            "Fold 4/5 - Score: 0.8779296875\n",
            "[Fold 5/5]\n",
            "Fold 5/5 - Score: 0.9513242662848963\n",
            "Avg scores - 0.9084777438819792\n"
          ]
        }
      ]
    },
    {
      "cell_type": "code",
      "source": [
        "x_test = np.array(test_df.drop('ID',axis=1))\n",
        "y_pred_test1 = pd.DataFrame(model1.predict_proba(x_test))[1].values\n",
        "y_pred_test2 = pd.DataFrame(model2.predict_proba(x_test))[1].values\n",
        "y_pred_test3 = pd.DataFrame(model3.predict_proba(x_test))[1].values\n",
        "y_pred_final = 0.2 * y_pred_test1 + 0.15 * y_pred_test2 + 0.65 * y_pred_test3"
      ],
      "metadata": {
        "id": "_cwGeaFdfiN1"
      },
      "execution_count": 39,
      "outputs": []
    },
    {
      "cell_type": "code",
      "source": [
        "submission = pd.DataFrame({'ID':test_df['ID'],\n",
        "                           'Class/ASD':y_pred_final})\n",
        "submission.head()"
      ],
      "metadata": {
        "colab": {
          "base_uri": "https://localhost:8080/",
          "height": 206
        },
        "id": "O6Az3STDfjjE",
        "outputId": "ae8f316b-62a8-4b3c-fdc4-e1e9ee5b7282"
      },
      "execution_count": 40,
      "outputs": [
        {
          "output_type": "execute_result",
          "data": {
            "text/plain": [
              "   ID  Class/ASD\n",
              "0   1   0.109354\n",
              "1   2   0.001673\n",
              "2   3   0.395727\n",
              "3   4   0.001292\n",
              "4   5   0.014679"
            ],
            "text/html": [
              "\n",
              "  <div id=\"df-40a64d8a-5cd8-43b5-82cd-7201226e155d\">\n",
              "    <div class=\"colab-df-container\">\n",
              "      <div>\n",
              "<style scoped>\n",
              "    .dataframe tbody tr th:only-of-type {\n",
              "        vertical-align: middle;\n",
              "    }\n",
              "\n",
              "    .dataframe tbody tr th {\n",
              "        vertical-align: top;\n",
              "    }\n",
              "\n",
              "    .dataframe thead th {\n",
              "        text-align: right;\n",
              "    }\n",
              "</style>\n",
              "<table border=\"1\" class=\"dataframe\">\n",
              "  <thead>\n",
              "    <tr style=\"text-align: right;\">\n",
              "      <th></th>\n",
              "      <th>ID</th>\n",
              "      <th>Class/ASD</th>\n",
              "    </tr>\n",
              "  </thead>\n",
              "  <tbody>\n",
              "    <tr>\n",
              "      <th>0</th>\n",
              "      <td>1</td>\n",
              "      <td>0.109354</td>\n",
              "    </tr>\n",
              "    <tr>\n",
              "      <th>1</th>\n",
              "      <td>2</td>\n",
              "      <td>0.001673</td>\n",
              "    </tr>\n",
              "    <tr>\n",
              "      <th>2</th>\n",
              "      <td>3</td>\n",
              "      <td>0.395727</td>\n",
              "    </tr>\n",
              "    <tr>\n",
              "      <th>3</th>\n",
              "      <td>4</td>\n",
              "      <td>0.001292</td>\n",
              "    </tr>\n",
              "    <tr>\n",
              "      <th>4</th>\n",
              "      <td>5</td>\n",
              "      <td>0.014679</td>\n",
              "    </tr>\n",
              "  </tbody>\n",
              "</table>\n",
              "</div>\n",
              "      <button class=\"colab-df-convert\" onclick=\"convertToInteractive('df-40a64d8a-5cd8-43b5-82cd-7201226e155d')\"\n",
              "              title=\"Convert this dataframe to an interactive table.\"\n",
              "              style=\"display:none;\">\n",
              "        \n",
              "  <svg xmlns=\"http://www.w3.org/2000/svg\" height=\"24px\"viewBox=\"0 0 24 24\"\n",
              "       width=\"24px\">\n",
              "    <path d=\"M0 0h24v24H0V0z\" fill=\"none\"/>\n",
              "    <path d=\"M18.56 5.44l.94 2.06.94-2.06 2.06-.94-2.06-.94-.94-2.06-.94 2.06-2.06.94zm-11 1L8.5 8.5l.94-2.06 2.06-.94-2.06-.94L8.5 2.5l-.94 2.06-2.06.94zm10 10l.94 2.06.94-2.06 2.06-.94-2.06-.94-.94-2.06-.94 2.06-2.06.94z\"/><path d=\"M17.41 7.96l-1.37-1.37c-.4-.4-.92-.59-1.43-.59-.52 0-1.04.2-1.43.59L10.3 9.45l-7.72 7.72c-.78.78-.78 2.05 0 2.83L4 21.41c.39.39.9.59 1.41.59.51 0 1.02-.2 1.41-.59l7.78-7.78 2.81-2.81c.8-.78.8-2.07 0-2.86zM5.41 20L4 18.59l7.72-7.72 1.47 1.35L5.41 20z\"/>\n",
              "  </svg>\n",
              "      </button>\n",
              "      \n",
              "  <style>\n",
              "    .colab-df-container {\n",
              "      display:flex;\n",
              "      flex-wrap:wrap;\n",
              "      gap: 12px;\n",
              "    }\n",
              "\n",
              "    .colab-df-convert {\n",
              "      background-color: #E8F0FE;\n",
              "      border: none;\n",
              "      border-radius: 50%;\n",
              "      cursor: pointer;\n",
              "      display: none;\n",
              "      fill: #1967D2;\n",
              "      height: 32px;\n",
              "      padding: 0 0 0 0;\n",
              "      width: 32px;\n",
              "    }\n",
              "\n",
              "    .colab-df-convert:hover {\n",
              "      background-color: #E2EBFA;\n",
              "      box-shadow: 0px 1px 2px rgba(60, 64, 67, 0.3), 0px 1px 3px 1px rgba(60, 64, 67, 0.15);\n",
              "      fill: #174EA6;\n",
              "    }\n",
              "\n",
              "    [theme=dark] .colab-df-convert {\n",
              "      background-color: #3B4455;\n",
              "      fill: #D2E3FC;\n",
              "    }\n",
              "\n",
              "    [theme=dark] .colab-df-convert:hover {\n",
              "      background-color: #434B5C;\n",
              "      box-shadow: 0px 1px 3px 1px rgba(0, 0, 0, 0.15);\n",
              "      filter: drop-shadow(0px 1px 2px rgba(0, 0, 0, 0.3));\n",
              "      fill: #FFFFFF;\n",
              "    }\n",
              "  </style>\n",
              "\n",
              "      <script>\n",
              "        const buttonEl =\n",
              "          document.querySelector('#df-40a64d8a-5cd8-43b5-82cd-7201226e155d button.colab-df-convert');\n",
              "        buttonEl.style.display =\n",
              "          google.colab.kernel.accessAllowed ? 'block' : 'none';\n",
              "\n",
              "        async function convertToInteractive(key) {\n",
              "          const element = document.querySelector('#df-40a64d8a-5cd8-43b5-82cd-7201226e155d');\n",
              "          const dataTable =\n",
              "            await google.colab.kernel.invokeFunction('convertToInteractive',\n",
              "                                                     [key], {});\n",
              "          if (!dataTable) return;\n",
              "\n",
              "          const docLinkHtml = 'Like what you see? Visit the ' +\n",
              "            '<a target=\"_blank\" href=https://colab.research.google.com/notebooks/data_table.ipynb>data table notebook</a>'\n",
              "            + ' to learn more about interactive tables.';\n",
              "          element.innerHTML = '';\n",
              "          dataTable['output_type'] = 'display_data';\n",
              "          await google.colab.output.renderOutput(dataTable, element);\n",
              "          const docLink = document.createElement('div');\n",
              "          docLink.innerHTML = docLinkHtml;\n",
              "          element.appendChild(docLink);\n",
              "        }\n",
              "      </script>\n",
              "    </div>\n",
              "  </div>\n",
              "  "
            ]
          },
          "metadata": {},
          "execution_count": 40
        }
      ]
    },
    {
      "cell_type": "code",
      "source": [
        "submission.to_csv(\"submission.csv\",index=False)"
      ],
      "metadata": {
        "id": "Z1pL_Kpbfrxy"
      },
      "execution_count": 41,
      "outputs": []
    }
  ]
}